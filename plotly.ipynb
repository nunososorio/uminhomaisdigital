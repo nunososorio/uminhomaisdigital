{
  "cells": [
    {
      "cell_type": "markdown",
      "metadata": {},
      "source": [
        "# Construir Visualizações Interativas com Plotly\n",
        "\n",
        "Nesta aula de **2 horas**, vamos aprender a criar visualizações interativas e dashboards dinâmicos com Plotly. Abordaremos os fundamentos, veremos exemplos práticos e teremos um exercício para vocês aplicarem os conceitos em um mini‑projeto interativo."
      ]
    },
    {
      "cell_type": "markdown",
      "metadata": {},
      "source": [
        "## Agenda da Aula (2 horas)\n",
        "\n",
        "- **10 min**: Introdução e objetivos da aula\n",
        "- **20 min**: Fundamentos e conceitos de visualização interativa\n",
        "- **30 min**: Exemplos práticos com Plotly Express (gráficos de dispersão e barras animadas)\n",
        "- **30 min**: Construção de um dashboard simples usando subplots\n",
        "- **20 min**: Exercício prático e discussão de resultados\n"
      ]
    },
    {
      "cell_type": "code",
      "execution_count": null,
      "metadata": {},
      "outputs": [],
      "source": [
        "# Importar as bibliotecas necessárias\n",
        "import pandas as pd\n",
        "import plotly.express as px\n",
        "import plotly.graph_objects as go\n",
        "\n",
        "# Verificar versões (opcional)\n",
        "print('Pandas version:', pd.__version__)\n",
        "print('Plotly version:', px.__version__)"
      ]
    },
    {
      "cell_type": "code",
      "execution_count": null,
      "metadata": {},
      "outputs": [],
      "source": [
        "# Carregar um dataset de exemplo (Gapminder) usando Plotly\n",
        "df = px.data.gapminder()\n",
        "df.head()"
      ]
    },
    {
      "cell_type": "markdown",
      "metadata": {},
      "source": [
        "## Exemplo 1: Gráfico de Dispersão Interativo\n",
        "\n",
        "Vamos criar um gráfico de dispersão que relaciona o PIB per capita (`gdpPercap`) com a expectativa de vida (`lifeExp`) para o ano de 2007, utilizando o dataset Gapminder. As cores representarão os continentes, o tamanho dos pontos representará a população e o hover mostrará o nome do país."
      ]
    },
    {
      "cell_type": "code",
      "execution_count": null,
      "metadata": {},
      "outputs": [],
      "source": [
        "fig_scatter = px.scatter(\n",
        "    df.query(\"year == 2007\"),\n",
        "    x='gdpPercap',\n",
        "    y='lifeExp',\n",
        "    color='continent',\n",
        "    size='pop',\n",
        "    hover_name='country',\n",
        "    log_x=True,\n",
        "    size_max=60,\n",
        "    title='PIB per Capita vs Expectativa de Vida (2007)'\n",
        ")\n",
        "fig_scatter.show()"
      ]
    },
    {
      "cell_type": "markdown",
      "metadata": {},
      "source": [
        "## Exemplo 2: Gráfico de Barras Animado\n",
        "\n",
        "Neste exemplo, vamos visualizar a evolução da população por continente ao longo dos anos com um gráfico de barras animado."
      ]
    },
    {
      "cell_type": "code",
      "execution_count": null,
      "metadata": {},
      "outputs": [],
      "source": [
        "fig_bar = px.bar(\n",
        "    df,\n",
        "    x='continent',\n",
        "    y='pop',\n",
        "    color='continent',\n",
        "    animation_frame='year',\n",
        "    range_y=[0, df['pop'].max()],\n",
        "    title='Evolução da População por Continente'\n",
        ")\n",
        "fig_bar.show()"
      ]
    },
    {
      "cell_type": "markdown",
      "metadata": {},
      "source": [
        "## Exemplo 3: Dashboard Simples com Subplots\n",
        "\n",
        "Agora, vamos criar um dashboard simples que combine o gráfico de dispersão e um gráfico de barras (para um ano fixo) usando subplots do Plotly."
      ]
    },
    {
      "cell_type": "code",
      "execution_count": null,
      "metadata": {},
      "outputs": [],
      "source": [
        "from plotly.subplots import make_subplots\n",
        "\n",
        "# Criar um dashboard com 1 linha e 2 colunas\n",
        "fig_dashboard = make_subplots(\n",
        "    rows=1, cols=2,\n",
        "    subplot_titles=(\"Dispersão (2007)\", \"Barras (2007)\")\n",
        ")\n",
        "\n",
        "# Preparar dados para o ano de 2007\n",
        "df_2007 = df.query(\"year == 2007\")\n",
        "\n",
        "# Adicionar o gráfico de dispersão ao dashboard\n",
        "fig_dashboard.add_trace(\n",
        "    go.Scatter(\n",
        "        x=df_2007['gdpPercap'],\n",
        "        y=df_2007['lifeExp'],\n",
        "        mode='markers',\n",
        "        marker=dict(\n",
        "            size=df_2007['pop'] / 1e6,  # escalonamento para melhor visualização\n",
        "            color=df_2007['pop'],\n",
        "            showscale=True\n",
        "        ),\n",
        "        text=df_2007['country']\n",
        "    ),\n",
        "    row=1, col=1\n",
        ")\n",
        "\n",
        "# Adicionar o gráfico de barras ao dashboard\n",
        "fig_dashboard.add_trace(\n",
        "    go.Bar(\n",
        "        x=df_2007['continent'],\n",
        "        y=df_2007['pop'],\n",
        "        marker_color='indianred'\n",
        "    ),\n",
        "    row=1, col=2\n",
        ")\n",
        "\n",
        "fig_dashboard.update_layout(\n",
        "    title_text='Dashboard Interativo Simples',\n",
        "    showlegend=False\n",
        ")\n",
        "fig_dashboard.show()"
      ]
    },
    {
      "cell_type": "markdown",
      "metadata": {},
      "source": [
        "## Exercício Prático\n",
        "\n",
        "Agora, vocês devem:\n",
        "- **Desafio 1**: Carregar um dataset diferente (por exemplo, o dataset \"iris\") e criar um gráfico interativo similar.\n",
        "- **Desafio 2**: Adicionar elementos interativos extras, como dropdowns ou sliders, para personalizar a visualização.\n",
        "\n",
        "Utilizem os exemplos acima como ponto de partida e explorem as possibilidades do Plotly para criar visualizações dinâmicas."
      ]
    },
    {
      "cell_type": "markdown",
      "metadata": {},
      "source": [
        "## Conclusão\n",
        "\n",
        "Nesta aula, vimos como usar o Plotly para criar visualizações interativas e dashboards que ajudam a comunicar resultados de forma eficaz. \n",
        "\n",
        "**Recursos Adicionais**:\n",
        "- [Documentação do Plotly](https://plotly.com/python/)\n",
        "- [Dash by Plotly](https://plotly.com/dash/)\n",
        "- Livros: _The Visual Display of Quantitative Information_ (Tufte) e _Show Me the Numbers_ (Few)\n",
        "\n",
        "Obrigado e bom trabalho com suas visualizações!"
      ]
    }
  ],
  "metadata": {
    "colab": {
      "name": "Interactive_Data_Visualization.ipynb",
      "provenance": []
    },
   
